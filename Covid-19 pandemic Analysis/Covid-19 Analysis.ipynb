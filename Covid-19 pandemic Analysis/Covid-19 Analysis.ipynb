{
 "cells": [
  {
   "cell_type": "markdown",
   "id": "eca47dc7-c7dc-4a69-b365-5429a715287c",
   "metadata": {},
   "source": [
    " <span style=\"font-family: 'Times New Roman', Times, serif; font-weight: bold; font-size: 42px;\">Covid-19 pandemic Analysis</span>"
   ]
  },
  {
   "cell_type": "markdown",
   "id": "5a514daf-e9e5-48ec-9bc1-5ed5d4111ba8",
   "metadata": {},
   "source": [
    "<span style=\"font-family: 'Times New Roman', Times, serif; font-weight: bold; font-size: 30px;\">Database Description</span>"
   ]
  },
  {
   "cell_type": "markdown",
   "id": "3b187d31-0160-4da7-8b37-dfe50170405c",
   "metadata": {},
   "source": [
    "<span style=\"font-family: 'Times New Roman', Times, serif; font-size: 18px;\"> Database consists of two tables: (**covid_analysis, population**)</span>"
   ]
  },
  {
   "cell_type": "markdown",
   "id": "62647df6-4798-4be5-9a5c-efa3d5947303",
   "metadata": {},
   "source": [
    "\n",
    "<span style=\"font-family: 'Times New Roman', Times, serif ; font-size: 20px;\">covid_analysis:</span>\n",
    "\n",
    "<style>\n",
    "table {\n",
    "    font-family: \"Times New Roman\", Times, serif;\n",
    "}\n",
    "</style>\n",
    "\n",
    "| Column | Description |\n",
    "|----------|----------|\n",
    "| date | A unique Identifier for each day |\n",
    "| location | Every country / continent / four income groups|\n",
    "| new_cases | new cases recorded per day |\n",
    "| death_cases | new death cases recorded per day|\n",
    "| total_cases | Cumulative cases recorded for a specifc country|\n",
    "| total_deaths | Cumulative deaths recorded for a specifc country |\n",
    "| weekly_cases | 7-days total cases|\n",
    "| weekly_deaths | 7-days total death cases |\n",
    "| biweekly_cases | 14-days total cases |\n",
    "| biweekly_deaths | 14-days total death cases |\n",
    "\n",
    "\n",
    "<span style=\"font-family: 'Times New Roman', Times, serif ; font-size: 20px;\">population:</span>\n",
    "\n",
    "<style>\n",
    "table {\n",
    "    font-family: \"Times New Roman\", Times, serif;\n",
    "}\n",
    "</style>\n",
    "\n",
    "| Column | Description |\n",
    "|----------|----------|\n",
    "| country_name | A unique Identifier for each country / region / world |\n",
    "| country_code | short alphanumeric identification code for countries |\n",
    "| year | year corresponds to each country and population |\n",
    "| value | population corresponds to each country and year |"
   ]
  },
  {
   "cell_type": "markdown",
   "id": "976217a0-544c-4054-87e7-111875259cca",
   "metadata": {},
   "source": [
    "<br><span style=\"font-family: 'Times New Roman', Times, serif; font-size: 23px;\">**NOTE** Database contains recorded data of covid-19 from (**22-01-2020 to 09-03-2023**)</span>\n",
    "<br>\n",
    "<br>\n",
    "<br>\n",
    "<br><span style=\"font-family: 'Times New Roman', Times, serif; font-weight: bold; font-size: 25px;\">Tables links:  </span>\n",
    "<span style=\"font-family: 'Times New Roman', Times, serif; font-weight: bold; font-size: 20px;\">[covid_analysis](https://github.com/omar25599/SQL-Projects/blob/main/Covid-19%20pandemic%20Analysis/full_data.csv)</span>,\n",
    "<span style=\"font-family: 'Times New Roman', Times, serif; font-weight: bold; font-size: 20px;\">[population](https://github.com/omar25599/SQL-Projects/blob/main/Covid-19%20pandemic%20Analysis/population.csv)</span>"
   ]
  },
  {
   "cell_type": "markdown",
   "id": "7884f409-c1c3-4b85-8791-0d5cb209be0c",
   "metadata": {},
   "source": [
    "<br><span style=\"font-family: 'Times New Roman', Times, serif; font-weight: bold; font-size: 25px;\">Tables Creation & Importing Data</span>\n",
    "\n",
    "<span style=\"font-family: 'Times New Roman', Times, serif; font-weight: bold; font-size: 23px;\">1<sup>st</sup>  covid_analysis:</span>\n",
    "\n",
    "<span style=\"font-family: 'Times New Roman', Times, serif; font-weight: bold; font-size: 20px;\">Table Creation:</span>"
   ]
  },
  {
   "cell_type": "code",
   "execution_count": null,
   "id": "d312c6b3-3782-4d5a-a57c-01f4d2811fde",
   "metadata": {},
   "outputs": [],
   "source": [
    "CREATE TABLE covid_analysis(\n",
    "    date DATE NOT NULL,\n",
    "    location VARCHAR(150),\n",
    "    new_cases INTEGER,\n",
    "    death_cases INTEGER,\n",
    "    total_cases BIGINT,\n",
    "    total_deaths BIGINT,\n",
    "    weekly_cases INTEGER,\n",
    "    weekly_deaths INTEGER,\n",
    "    biweekly_cases INTEGER,\n",
    "    biweekly_deaths INTEGER\n",
    ");"
   ]
  },
  {
   "cell_type": "markdown",
   "id": "f136abff-1c27-46ed-833e-2b875a3a2507",
   "metadata": {},
   "source": [
    "<span style=\"font-family: 'Times New Roman', Times, serif; font-weight: bold; font-size: 20px;\">Data Importing:</span>"
   ]
  },
  {
   "cell_type": "code",
   "execution_count": null,
   "id": "7c14efd8-0e91-40fd-bbcd-49c06fcd8da7",
   "metadata": {},
   "outputs": [],
   "source": [
    "COPY covid_analysis FROM 'F:\\markmarkoh-coronavirus-data\\data\\full_data.csv' DELIMITER ',' CSV HEADER;"
   ]
  },
  {
   "cell_type": "markdown",
   "id": "aed6fb9a-158e-4bea-b6fd-6d8f62d789fc",
   "metadata": {},
   "source": [
    "<br><span style=\"font-family: 'Times New Roman', Times, serif; font-weight: bold; font-size: 23px;\">2<sup>nd</sup>  population:</span>"
   ]
  },
  {
   "cell_type": "markdown",
   "id": "6bc8558e-1529-403d-bcb0-5d139c3c4e88",
   "metadata": {},
   "source": [
    "<span style=\"font-family: 'Times New Roman', Times, serif; font-weight: bold; font-size: 20px;\">Table Creation:</span>"
   ]
  },
  {
   "cell_type": "code",
   "execution_count": null,
   "id": "fc2e608a-898e-436d-9c96-5c37f986034d",
   "metadata": {},
   "outputs": [],
   "source": [
    "CREATE TABLE population(\n",
    "    country_name VARCHAR(150),\n",
    "    country_code VARCHAR(20),\n",
    "    year INTEGER,\n",
    "    value BIGINT\n",
    ");"
   ]
  },
  {
   "cell_type": "markdown",
   "id": "bf2669c3-1e1c-41aa-859e-a8c82b787f13",
   "metadata": {},
   "source": [
    "<span style=\"font-family: 'Times New Roman', Times, serif; font-weight: bold; font-size: 20px;\">Data Importing:</span>"
   ]
  },
  {
   "cell_type": "code",
   "execution_count": null,
   "id": "2410b267-b87a-4248-888a-0c445d671154",
   "metadata": {},
   "outputs": [],
   "source": [
    "COPY population FROM 'F:\\covid_analysis\\population.csv' DELIMITER ',' CSV HEADER;"
   ]
  },
  {
   "cell_type": "markdown",
   "id": "addb0aa4-7119-43ba-93c6-b86b17d73c04",
   "metadata": {},
   "source": [
    "<br>\n",
    "<br><span style=\"font-family: 'Times New Roman', Times, serif; font-weight: bold; font-size: 25px;\">Data Cleaning</span>"
   ]
  },
  {
   "cell_type": "code",
   "execution_count": null,
   "id": "264697d4-d16f-4674-9135-cf347dec9920",
   "metadata": {},
   "outputs": [],
   "source": [
    "--date is clean\n",
    "SELECT COUNT(*)\n",
    "FROM covid_analysis\n",
    "WHERE date IS NULL;\n",
    "\n",
    "--Replacing null values\n",
    "--new_cases\n",
    "UPDATE covid_analysis\n",
    "SET new_cases = CASE WHEN new_cases IS NULL THEN 0 ELSE new_cases END;\n",
    "--death_cases\n",
    "UPDATE covid_analysis \n",
    "SET death_cases = CASE WHEN death_cases IS NULL THEN 0 ELSE death_cases END;"
   ]
  },
  {
   "cell_type": "markdown",
   "id": "b29a2b17-22f2-4224-a57b-685270ccbe7c",
   "metadata": {},
   "source": [
    "<br>\n",
    "<br>\n",
    "<br><span style=\"font-family: 'Times New Roman', Times, serif; font-weight: bold; font-size: 25px;\">Objectives</span>\n",
    "<br>\n",
    "<br><span style=\"font-family: 'Times New Roman', Times, serif; font-weight: bold; font-size: 20px;\">1- In which year does the highest number of death cases occur ? In which Country Specify it as a percent of the population in the same year? What is the total number of death cases?</span>"
   ]
  },
  {
   "cell_type": "markdown",
   "id": "7438ff72-6255-44ec-9061-640f06c910f2",
   "metadata": {},
   "source": [
    "<br><span style=\"font-family: 'Times New Roman', Times, serif; font-weight: bold; font-size: 25px;\">Solution</span>"
   ]
  },
  {
   "cell_type": "code",
   "execution_count": null,
   "id": "568217b1-0d08-488e-ad8a-152a10cfa4a9",
   "metadata": {},
   "outputs": [],
   "source": [
    "WITH req_loc_year AS(\n",
    "    SELECT EXTRACT(YEAR FROM date) AS year, location\n",
    "        FROM covid_analysis\n",
    "        WHERE location IN (\n",
    "            SELECT location\n",
    "            FROM covid_analysis\n",
    "            WHERE location NOT IN ('World', 'High income', 'Upper middle income', 'Europe', 'Asia', 'North America', 'Lower middle income', 'South America', 'European Union', 'Africa')\n",
    "            GROUP BY location\n",
    "            ORDER BY SUM(death_cases) DESC\n",
    "            LIMIT 1)\n",
    "        GROUP BY EXTRACT(YEAR FROM date), location\n",
    "        ORDER BY SUM(death_cases) DESC\n",
    "        LIMIT 1\n",
    ")\n",
    "SELECT p.year AS most_death_year,\n",
    "location AS country, \n",
    "(SELECT SUM(death_cases) AS no_of_death_cases\n",
    "       FROM covid_analysis\n",
    "       LEFT JOIN req_loc_year\n",
    "       USING(location)\n",
    "       WHERE EXTRACT(YEAR FROM date) = req_loc_year.year \n",
    "       AND location = req_loc_year.location),\n",
    "p.value AS population,\n",
    "ROUND((SELECT SUM(death_cases) AS no_of_death_cases\n",
    "       FROM covid_analysis\n",
    "       LEFT JOIN req_loc_year\n",
    "       USING(location)\n",
    "       WHERE EXTRACT(YEAR FROM date) = req_loc_year.year \n",
    "       AND location = req_loc_year.location) / CAST(p.value AS NUMERIC), 5) AS index,\n",
    "ROUND((SELECT SUM(death_cases) AS no_of_death_cases\n",
    "       FROM covid_analysis\n",
    "       LEFT JOIN req_loc_year\n",
    "       USING(location)\n",
    "       WHERE EXTRACT(YEAR FROM date) = req_loc_year.year \n",
    "       AND location = req_loc_year.location) / CAST(p.value AS NUMERIC), 5) * 100 AS percentage,\n",
    "SUM(death_cases) AS total_death_cases,\n",
    "ROUND(SUM(death_cases) / CAST(p.value AS NUMERIC), 5) AS total_index,\n",
    "ROUND(SUM(death_cases) / CAST(p.value AS NUMERIC), 5) * 100 AS total_percentage\n",
    "FROM covid_analysis AS c\n",
    "LEFT JOIN population AS p\n",
    "ON c.location = p.country_name\n",
    "WHERE location NOT IN ('World', 'High income', 'Upper middle income', 'Europe', 'Asia', 'North America', 'Lower middle income', 'South America', 'European Union', 'Africa')\n",
    "AND p.year IN \n",
    "       (\n",
    "        SELECT year\n",
    "        FROM req_loc_year\n",
    "       )\n",
    "GROUP BY location, p.value, p.year\n",
    "ORDER BY total_death_cases DESC\n",
    "LIMIT 1;"
   ]
  },
  {
   "cell_type": "markdown",
   "id": "9fe2bd17-b4d7-4454-a985-14ea4fd7a5b3",
   "metadata": {},
   "source": [
    "<span style=\"font-family: 'Times New Roman', Times, serif; font-weight: bold; font-size: 25px;\">Output</span>\n",
    "<br>\n",
    "<br>"
   ]
  },
  {
   "cell_type": "markdown",
   "id": "fdfff864-6066-4d58-b6d9-a9e9273623dd",
   "metadata": {},
   "source": [
    "<style>\n",
    "table {\n",
    "    font-family: \"Times New Roman\", Times, serif;\n",
    "}\n",
    "</style>\n",
    "\n",
    "| most_death_year | country | no_of_death_cases | population | index | percentage | total_death_cases | total_index | total_percentage |\n",
    "|----------|----------|----------|----------|----------|----------|----------|----------|----------|\n",
    "| 2021 | United States | 474864 | 331893745 | 0.00143 | 0.14300 | 1124389 | 0.00339 | 0.33900 |"
   ]
  },
  {
   "cell_type": "markdown",
   "id": "cf671548-8394-420a-9f25-20f287cdd202",
   "metadata": {},
   "source": [
    "<br><span style=\"font-family: 'Times New Roman', Times, serif; font-weight: bold; font-size: 20px;\">insights from this query result :</span>\n",
    "<br>\n",
    "<span style=\"font-family: 'Times New Roman', Times, serif; font-size: 20px;\">1- **united states** is the most country in death cases with **1124389** death cases represents **.339** percent of population in year **2021**</span>\n",
    "<br>\n",
    "<span style=\"font-family: 'Times New Roman', Times, serif; font-size: 20px;\">2- **2021** is the most year in death cases in **USA** with **474864** death cases and this represents **.143** percent of population in the same year</span>"
   ]
  },
  {
   "cell_type": "markdown",
   "id": "2aac1a29-2140-439b-8cd0-87c746e63de1",
   "metadata": {},
   "source": [
    "------------------------------------------------------------------------------------------------------------------------------"
   ]
  },
  {
   "cell_type": "markdown",
   "id": "e4a4e970-0745-488c-8444-a22649dc819b",
   "metadata": {},
   "source": [
    "<br><span style=\"font-family: 'Times New Roman', Times, serif; font-weight: bold; font-size: 20px;\">2- What is the total cases & death cases of covid-19 recorded in each country ranked by most spread? How much people survived & what is the representing percentage of them? </span>"
   ]
  },
  {
   "cell_type": "markdown",
   "id": "251104f1-9b57-408a-ae29-abd20d34b183",
   "metadata": {},
   "source": [
    "<br><span style=\"font-family: 'Times New Roman', Times, serif; font-weight: bold; font-size: 25px;\">Solution</span>"
   ]
  },
  {
   "cell_type": "code",
   "execution_count": null,
   "id": "bf397792-b5f5-4e1a-a219-43974f8480c4",
   "metadata": {},
   "outputs": [],
   "source": [
    "SELECT  ROW_NUMBER() OVER(ORDER BY SUM(new_cases) DESC) AS ranking, location, \n",
    "            SUM(new_cases) AS total_cases, SUM(death_cases) AS total_deaths,\n",
    "            SUM(new_cases) - SUM(death_cases) AS count_of_cases_survived,\n",
    "            ROUND(CAST(SUM(death_cases) AS NUMERIC) / SUM(new_cases), 5) * 100 AS percentage_of_death,\n",
    "            (1 - ROUND(CAST(SUM(death_cases) AS NUMERIC) / SUM(new_cases), 5)) * 100 AS percentage_of_recovery\n",
    "    FROM covid_analysis\n",
    "    WHERE location NOT IN ('World', 'High income', 'Upper middle income', 'Europe', 'Asia', 'North America', 'Lower middle income', 'South America', 'European Union', 'Africa')\n",
    "    GROUP BY  location\n",
    "    ORDER BY SUM(new_cases) DESC\n",
    "    LIMIT 10;"
   ]
  },
  {
   "cell_type": "markdown",
   "id": "cf4e0743-8a7b-4a13-848b-abb2d51571d0",
   "metadata": {},
   "source": [
    "<span style=\"font-family: 'Times New Roman', Times, serif; font-weight: bold; font-size: 25px;\">Output</span>\n",
    "<br>\n",
    "<br>"
   ]
  },
  {
   "cell_type": "markdown",
   "id": "b55b5b19-d463-4cb3-a0a6-cbe9515bbcd3",
   "metadata": {},
   "source": [
    "<style>\n",
    "table {\n",
    "    font-family: \"Times New Roman\", Times, serif;\n",
    "}\n",
    "</style>\n",
    "\n",
    "| ranking | location | total_cases | total_deaths | count_of_cases_survived | percentage_of_death | percentage_of_recovery |\n",
    "|----------|----------|----------|----------|----------|----------|----------|\n",
    "| 1 | United States | 103806563 | 1124389 | 102682174 | 1.08300 | 98.91700 |\n",
    "| 2 | India | 44693901 | 523406 | 44170495 | 1.17100 | 98.82900 |\n",
    "| 3 | France | 40155274 | 165613 | 39989661 |0.41200 | 99.58800 |\n",
    "| 4 | Germany | 38249060 | 168944 | 38080116 | 0.44200 | 99.55800 |\n",
    "| 5 | Brazil | 36977190 | 699402 | 36277788 | 1.89100 | 98.10900 |\n",
    "| 6 | Japan | 33320436 | 73007 | 33247429 | 0.21900 | 99.78100 |\n",
    "| 7 | South Korea | 30615521 | 34093 | 30581428 | 0.11100 | 99.88900 |\n",
    "| 8 | Italy | 25603658 | 188353 | 25415305 | 0.73600 | 99.26400 |\n",
    "| 9 | United Kingdom | 23589101 | 219341 | 23369760 | 0.93000 | 99.07000 |\n",
    "| 10 | Russia | 22075858 | 388478 | 21687380 | 1.76000 | 98.24000 |"
   ]
  },
  {
   "cell_type": "markdown",
   "id": "5512c16a-55ba-45a5-8c7b-09432556048c",
   "metadata": {},
   "source": [
    "<br><span style=\"font-family: 'Times New Roman', Times, serif; font-weight: bold; font-size: 20px;\">insights from this query result :</span>\n",
    "<br>\n",
    "<span style=\"font-family: 'Times New Roman', Times, serif; font-size: 20px;\"> **USA** is the most country covid spread in with total cases of **103806563**   However it has highest percentage of people recovered with **98.917**%,  An important note to take here to make a decision with percentage could be misleading percentage_of_recovery in the question context as an example as more than 1.12 million people died.</span>"
   ]
  },
  {
   "cell_type": "markdown",
   "id": "8c4b04bc-85c8-4fe0-9e52-506542d19c6d",
   "metadata": {},
   "source": [
    "--------------------------------------------------------------------------------------------------------------------------------"
   ]
  },
  {
   "cell_type": "markdown",
   "id": "591904c4-dfd4-4275-8139-acb54782c439",
   "metadata": {},
   "source": [
    "<br><span style=\"font-family: 'Times New Roman', Times, serif; font-weight: bold; font-size: 20px;\">In which year, month covid cases recorded globally more than others? </span>\n",
    "\n",
    "<span style=\"font-family: 'Times New Roman', Times, serif; font-weight: bold; font-size: 20px;\">year: </span>"
   ]
  },
  {
   "cell_type": "code",
   "execution_count": null,
   "id": "0663daaf-baec-4ca4-8aa5-c8de97e79da8",
   "metadata": {},
   "outputs": [],
   "source": [
    "SELECT  ROW_NUMBER() OVER(ORDER BY SUM(new_cases) DESC) AS ranking, EXTRACT(YEAR FROM date) AS year,\n",
    "        SUM(new_cases) AS total_cases,\n",
    "        SUM(death_cases) AS total_deaths\n",
    "FROM covid_analysis\n",
    "WHERE location NOT IN ('World', 'High income', 'Upper middle income', 'Europe', 'Asia', 'North America', 'Lower middle income', 'South America', 'European Union', 'Africa')\n",
    "GROUP BY  EXTRACT(YEAR FROM date)\n",
    "ORDER BY SUM(new_cases) DESC;"
   ]
  },
  {
   "cell_type": "markdown",
   "id": "95f1f2e4-d0ce-4a9c-b794-24f81b532436",
   "metadata": {},
   "source": [
    "<span style=\"font-family: 'Times New Roman', Times, serif; font-weight: bold; font-size: 25px;\">Output</span>\n",
    "<br>\n",
    "<br>"
   ]
  },
  {
   "cell_type": "markdown",
   "id": "3dc003cb-c9f5-4d9d-9e76-b1cb1417a4a5",
   "metadata": {},
   "source": [
    "<style>\n",
    "table {\n",
    "    font-family: \"Times New Roman\", Times, serif;\n",
    "}\n",
    "</style>\n",
    "\n",
    "| ranking | year | total_cases | total_deaths |\n",
    "|----------|----------|----------|----------|\n",
    "| 1 | 2022 | 383936529 | 1236402 |\n",
    "| 2 | 2021 | 207230743 | 3583031 |\n",
    "| 3 | 2020 | 83522360 | 1906031 |\n",
    "| 4 | 2023 | 16550112 | 191436 |"
   ]
  },
  {
   "cell_type": "markdown",
   "id": "5cc62c18-9ffa-45fd-a86f-dc9ef3ef8851",
   "metadata": {},
   "source": [
    "<br>\n",
    "<br><span style=\"font-family: 'Times New Roman', Times, serif; font-weight: bold; font-size: 20px;\">month: </span>"
   ]
  },
  {
   "cell_type": "code",
   "execution_count": null,
   "id": "3f9840fb-8985-4b61-9112-5e1c8652ff04",
   "metadata": {},
   "outputs": [],
   "source": [
    "SELECT ROW_NUMBER() OVER(ORDER BY SUM(new_cases) DESC) AS ranking, TO_CHAR(date, 'Month') AS month, EXTRACT(YEAR FROM date) AS year,\n",
    "        SUM(new_cases) AS total_cases,\n",
    "        SUM(death_cases) AS total_deaths\n",
    "FROM covid_analysis\n",
    "WHERE location NOT IN ('World', 'High income', 'Upper middle income', 'Europe', 'Asia', 'North America', 'Lower middle income', 'South America', 'European Union', 'Africa')\n",
    "GROUP BY  TO_CHAR(date, 'Month'), EXTRACT(YEAR FROM date)\n",
    "ORDER BY SUM(new_cases) DESC\n",
    "LIMIT 10;"
   ]
  },
  {
   "cell_type": "markdown",
   "id": "e0ba358b-af58-46e4-bef3-526d5088ae08",
   "metadata": {},
   "source": [
    "<span style=\"font-family: 'Times New Roman', Times, serif; font-weight: bold; font-size: 25px;\">Output</span>\n",
    "<br>\n",
    "<br>"
   ]
  },
  {
   "cell_type": "markdown",
   "id": "fb3ae5f9-2cc1-4a00-8f7b-a25883800e3e",
   "metadata": {},
   "source": [
    "<style>\n",
    "table {\n",
    "    font-family: \"Times New Roman\", Times, serif;\n",
    "}\n",
    "</style>\n",
    "\n",
    "| ranking | month | year | total_cases | total_deaths |\n",
    "|----------|----------|----------|----------|----------|\n",
    "| 1 | January   | 2022 | 92118581 |242453|\n",
    "| 2 | February  | 2022 | 59122013 |281161|\n",
    "| 3 | March     | 2022 | 53268347 |182798|\n",
    "| 4 | July      | 2022 | 31233554 |63610|\n",
    "| 5 | April     | 2022 | 26900369 |87709|\n",
    "| 6 | December  | 2021 | 26046424 |223224|\n",
    "| 7 | August    | 2022 | 25942490 |77959|\n",
    "| 8 | April     | 2021 | 22656009 |381889|\n",
    "| 9 | August    | 2021 | 20105063 |304988|\n",
    "| 10 | May      | 2021 | 19757432 |381306|"
   ]
  },
  {
   "cell_type": "markdown",
   "id": "cdc4d9f7-fe9a-4e4d-8372-8945b1b39b53",
   "metadata": {},
   "source": [
    "-----------------------------------------------------------------------------------------------------------------------------"
   ]
  },
  {
   "cell_type": "markdown",
   "id": "41d8857c-c1ad-4081-b22d-3b6616c3600e",
   "metadata": {},
   "source": [
    "<br><span style=\"font-family: 'Times New Roman', Times, serif; font-weight: bold; font-size: 20px;\">What is the total number of infected people of covid globally? </span>"
   ]
  },
  {
   "cell_type": "markdown",
   "id": "6b10334e-3649-4b33-9c05-d4dc4e47daea",
   "metadata": {},
   "source": [
    "<br><span style=\"font-family: 'Times New Roman', Times, serif; font-weight: bold; font-size: 25px;\">Solution</span>"
   ]
  },
  {
   "cell_type": "code",
   "execution_count": null,
   "id": "7fc8eaf8-b42b-474b-8772-3827ece121de",
   "metadata": {},
   "outputs": [],
   "source": [
    "SELECT EXTRACT(YEAR FROM date) AS year, SUM(new_cases) AS total_inficted_people_per_year, SUM(SUM(new_cases)) OVER (ORDER BY EXTRACT(YEAR FROM date)) AS cumulative_total\n",
    "FROM covid_analysis\n",
    "WHERE location NOT IN ('World', 'High income', 'Upper middle income', 'Europe', 'Asia', 'North America', 'Lower middle income', 'South America', 'European Union', 'Africa')\n",
    "GROUP BY EXTRACT(YEAR FROM date)\n",
    "ORDER BY year ASC;"
   ]
  },
  {
   "cell_type": "markdown",
   "id": "323c930c-c548-45e5-a4b1-33932fe8d21e",
   "metadata": {},
   "source": [
    "<span style=\"font-family: 'Times New Roman', Times, serif; font-weight: bold; font-size: 25px;\">Output</span>\n",
    "<br>\n",
    "<br>"
   ]
  },
  {
   "cell_type": "markdown",
   "id": "63c48d82-a6dc-4c2e-a494-11f13ca5c944",
   "metadata": {},
   "source": [
    "<style>\n",
    "table {\n",
    "    font-family: \"Times New Roman\", Times, serif;\n",
    "}\n",
    "</style>\n",
    "\n",
    "| year | total_inficted_people_per_year | cumulative_total |\n",
    "|----------|----------|----------|\n",
    "| 2020 | 83522360 | 83522360 |\n",
    "| 2021 | 207230743 | 290753103 |\n",
    "| 2022 | 383936529 | 674689632 |\n",
    "| 2023 | 16550112 | 691239744 |"
   ]
  },
  {
   "cell_type": "markdown",
   "id": "995e69bb-19f4-4d82-98d9-90e00eb92cfe",
   "metadata": {},
   "source": [
    "<br><span style=\"font-family: 'Times New Roman', Times, serif; font-weight: bold; font-size: 20px;\">insights from this query result :</span>\n",
    "<br>\n",
    "<span style=\"font-family: 'Times New Roman', Times, serif; font-size: 20px;\"> COVID-19 infected **691239744** people around the world till the date of **09-03-2023**</span>"
   ]
  }
 ],
 "metadata": {
  "kernelspec": {
   "display_name": "Python 3 (ipykernel)",
   "language": "python",
   "name": "python3"
  },
  "language_info": {
   "codemirror_mode": {
    "name": "ipython",
    "version": 3
   },
   "file_extension": ".py",
   "mimetype": "text/x-python",
   "name": "python",
   "nbconvert_exporter": "python",
   "pygments_lexer": "ipython3",
   "version": "3.12.1"
  }
 },
 "nbformat": 4,
 "nbformat_minor": 5
}
